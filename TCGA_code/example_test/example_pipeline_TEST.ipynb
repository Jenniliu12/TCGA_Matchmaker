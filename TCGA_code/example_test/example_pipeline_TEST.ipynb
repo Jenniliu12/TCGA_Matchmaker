{
 "cells": [
  {
   "cell_type": "code",
   "execution_count": 82,
   "id": "aab06a8e",
   "metadata": {},
   "outputs": [],
   "source": [
    "import pandas as pd\n",
    "import numpy as np\n",
    "from TCGA_code import match_computation as m\n",
    "\n"
   ]
  },
  {
   "cell_type": "code",
   "execution_count": 115,
   "id": "7c6b67d2",
   "metadata": {},
   "outputs": [],
   "source": [
    "\n",
    "# sample_data = m.read_expr_profile(\"example_input_sample.csv\")"
   ]
  },
  {
   "cell_type": "code",
   "execution_count": 59,
   "id": "d693ca26",
   "metadata": {},
   "outputs": [
    {
     "name": "stdout",
     "output_type": "stream",
     "text": [
      "    symbol  value\n",
      "0    gene1      2\n",
      "1    gene1      3\n",
      "2    gene2      4\n",
      "3    gene3      3\n",
      "4    gene4      2\n",
      "5    gene2      9\n",
      "6    gene3     10\n",
      "7    gene2      2\n",
      "8    gene5      2\n",
      "9    gene6      3\n",
      "10   gene7      4\n",
      "11   gene8      3\n",
      "12   gene9      2\n",
      "13  gene10      9\n",
      "14  gene11     10\n",
      "15  gene12      2\n",
      "16  gene13      2\n",
      "17  gene14      3\n",
      "18  gene15      4\n",
      "19  gene16      3\n",
      "20  gene17      2\n",
      "21  gene18      9\n",
      "22  gene19     10\n",
      "23  gene20      2\n",
      "24  gene21      2\n",
      "25  gene22      3\n",
      "26  gene23      4\n",
      "27  gene24      3\n",
      "28  gene25      2\n",
      "29  gene26      9\n",
      "30  gene27     10\n",
      "31  gene28      2\n"
     ]
    }
   ],
   "source": [
    "file_name = \"example_input_sample.csv\"\n",
    "profile_df = pd.read_csv(file_name, sep = \";\", encoding=\"UTF-8\")\n",
    "print(profile_df)"
   ]
  },
  {
   "cell_type": "code",
   "execution_count": 54,
   "id": "fa5c1839",
   "metadata": {},
   "outputs": [
    {
     "name": "stdout",
     "output_type": "stream",
     "text": [
      "symbol\n",
      "gene1    NaN\n",
      "gene1    NaN\n",
      "gene2    NaN\n",
      "gene3    NaN\n",
      "gene4    NaN\n",
      "gene2    NaN\n",
      "gene3    NaN\n",
      "gene2    NaN\n",
      "gene5    NaN\n",
      "gene6    NaN\n",
      "gene7    NaN\n",
      "gene8    NaN\n",
      "gene9    NaN\n",
      "gene10   NaN\n",
      "gene11   NaN\n",
      "gene12   NaN\n",
      "gene13   NaN\n",
      "gene14   NaN\n",
      "gene15   NaN\n",
      "gene16   NaN\n",
      "gene17   NaN\n",
      "gene18   NaN\n",
      "gene19   NaN\n",
      "gene20   NaN\n",
      "gene21   NaN\n",
      "gene22   NaN\n",
      "gene23   NaN\n",
      "gene24   NaN\n",
      "gene25   NaN\n",
      "gene26   NaN\n",
      "gene27   NaN\n",
      "gene28   NaN\n",
      "gene29   NaN\n",
      "gene30   NaN\n",
      "gene31   NaN\n",
      "gene32   NaN\n",
      "gene33   NaN\n",
      "gene34   NaN\n",
      "gene55   NaN\n",
      "gene36   NaN\n",
      "gene37   NaN\n",
      "gene38   NaN\n",
      "Name: value, dtype: float64\n"
     ]
    }
   ],
   "source": [
    "# example_input_sample\n",
    "file_name = \"example_profile.csv\"\n",
    "profile_df = pd.read_csv(file_name, sep = \";\")\n",
    "index = profile_df.iloc[:,1]\n",
    "values = profile_df.iloc[:,0]\n",
    "\n",
    "sample_profile_data = pd.Series(index, values)\n",
    "profile = sample_profile_data\n",
    "print(sample_profile_data)"
   ]
  },
  {
   "cell_type": "code",
   "execution_count": null,
   "id": "50e18886",
   "metadata": {},
   "outputs": [],
   "source": []
  },
  {
   "cell_type": "code",
   "execution_count": null,
   "id": "1b32185a",
   "metadata": {},
   "outputs": [],
   "source": []
  },
  {
   "cell_type": "code",
   "execution_count": 22,
   "id": "774a749c",
   "metadata": {},
   "outputs": [
    {
     "name": "stdout",
     "output_type": "stream",
     "text": [
      "At least one of the data sets is empty.\n",
      "At least one of the data sets is empty.\n",
      "There is a significant overlap!\n"
     ]
    },
    {
     "ename": "TypeError",
     "evalue": "unsupported operand type(s) for /: 'str' and 'int'",
     "output_type": "error",
     "traceback": [
      "\u001b[0;31m---------------------------------------------------------------------------\u001b[0m",
      "\u001b[0;31mTypeError\u001b[0m                                 Traceback (most recent call last)",
      "Input \u001b[0;32mIn [22]\u001b[0m, in \u001b[0;36m<cell line: 17>\u001b[0;34m()\u001b[0m\n\u001b[1;32m     14\u001b[0m is_match \u001b[38;5;241m=\u001b[39m m\u001b[38;5;241m.\u001b[39mtest_match(profile, sample_data, threshold)\n\u001b[1;32m     16\u001b[0m \u001b[38;5;66;03m# Compute the distance between the reference expression profile and a sample expression profile (correlation)\u001b[39;00m\n\u001b[0;32m---> 17\u001b[0m distance \u001b[38;5;241m=\u001b[39m \u001b[43mm\u001b[49m\u001b[38;5;241;43m.\u001b[39;49m\u001b[43mcompute_distance\u001b[49m\u001b[43m(\u001b[49m\u001b[43mprofile\u001b[49m\u001b[43m,\u001b[49m\u001b[43m \u001b[49m\u001b[43msample_data\u001b[49m\u001b[43m)\u001b[49m\n",
      "File \u001b[0;32m~/opt/anaconda3/lib/python3.9/site-packages/TCGA_code/match_computation.py:150\u001b[0m, in \u001b[0;36mcompute_distance\u001b[0;34m(profile, sample_data)\u001b[0m\n\u001b[1;32m    148\u001b[0m \t\u001b[38;5;28mprint\u001b[39m(\u001b[38;5;124m\"\u001b[39m\u001b[38;5;124mThere is a significant overlap!\u001b[39m\u001b[38;5;124m\"\u001b[39m)\n\u001b[1;32m    149\u001b[0m \t\u001b[38;5;66;03m#distance = sum(abs(sample_data[intersection]-profile[intersection]))  # TAKE CORRELATION\u001b[39;00m\n\u001b[0;32m--> 150\u001b[0m \tdistance \u001b[38;5;241m=\u001b[39m \u001b[43msample_data\u001b[49m\u001b[43m[\u001b[49m\u001b[43mintersection\u001b[49m\u001b[43m]\u001b[49m\u001b[38;5;241;43m.\u001b[39;49m\u001b[43mcorr\u001b[49m\u001b[43m(\u001b[49m\u001b[43mprofile\u001b[49m\u001b[43m[\u001b[49m\u001b[43mintersection\u001b[49m\u001b[43m]\u001b[49m\u001b[43m)\u001b[49m\n\u001b[1;32m    151\u001b[0m \tdistance \u001b[38;5;241m=\u001b[39m \u001b[38;5;28mround\u001b[39m(distance, \u001b[38;5;241m3\u001b[39m)\n\u001b[1;32m    152\u001b[0m \u001b[38;5;28;01mreturn\u001b[39;00m distance\n",
      "File \u001b[0;32m~/opt/anaconda3/lib/python3.9/site-packages/pandas/core/series.py:2557\u001b[0m, in \u001b[0;36mSeries.corr\u001b[0;34m(self, other, method, min_periods)\u001b[0m\n\u001b[1;32m   2554\u001b[0m     \u001b[38;5;28;01mreturn\u001b[39;00m np\u001b[38;5;241m.\u001b[39mnan\n\u001b[1;32m   2556\u001b[0m \u001b[38;5;28;01mif\u001b[39;00m method \u001b[38;5;129;01min\u001b[39;00m [\u001b[38;5;124m\"\u001b[39m\u001b[38;5;124mpearson\u001b[39m\u001b[38;5;124m\"\u001b[39m, \u001b[38;5;124m\"\u001b[39m\u001b[38;5;124mspearman\u001b[39m\u001b[38;5;124m\"\u001b[39m, \u001b[38;5;124m\"\u001b[39m\u001b[38;5;124mkendall\u001b[39m\u001b[38;5;124m\"\u001b[39m] \u001b[38;5;129;01mor\u001b[39;00m callable(method):\n\u001b[0;32m-> 2557\u001b[0m     \u001b[38;5;28;01mreturn\u001b[39;00m \u001b[43mnanops\u001b[49m\u001b[38;5;241;43m.\u001b[39;49m\u001b[43mnancorr\u001b[49m\u001b[43m(\u001b[49m\n\u001b[1;32m   2558\u001b[0m \u001b[43m        \u001b[49m\u001b[43mthis\u001b[49m\u001b[38;5;241;43m.\u001b[39;49m\u001b[43mvalues\u001b[49m\u001b[43m,\u001b[49m\u001b[43m \u001b[49m\u001b[43mother\u001b[49m\u001b[38;5;241;43m.\u001b[39;49m\u001b[43mvalues\u001b[49m\u001b[43m,\u001b[49m\u001b[43m \u001b[49m\u001b[43mmethod\u001b[49m\u001b[38;5;241;43m=\u001b[39;49m\u001b[43mmethod\u001b[49m\u001b[43m,\u001b[49m\u001b[43m \u001b[49m\u001b[43mmin_periods\u001b[49m\u001b[38;5;241;43m=\u001b[39;49m\u001b[43mmin_periods\u001b[49m\n\u001b[1;32m   2559\u001b[0m \u001b[43m    \u001b[49m\u001b[43m)\u001b[49m\n\u001b[1;32m   2561\u001b[0m \u001b[38;5;28;01mraise\u001b[39;00m \u001b[38;5;167;01mValueError\u001b[39;00m(\n\u001b[1;32m   2562\u001b[0m     \u001b[38;5;124m\"\u001b[39m\u001b[38;5;124mmethod must be either \u001b[39m\u001b[38;5;124m'\u001b[39m\u001b[38;5;124mpearson\u001b[39m\u001b[38;5;124m'\u001b[39m\u001b[38;5;124m, \u001b[39m\u001b[38;5;124m\"\u001b[39m\n\u001b[1;32m   2563\u001b[0m     \u001b[38;5;124m\"\u001b[39m\u001b[38;5;124m'\u001b[39m\u001b[38;5;124mspearman\u001b[39m\u001b[38;5;124m'\u001b[39m\u001b[38;5;124m, \u001b[39m\u001b[38;5;124m'\u001b[39m\u001b[38;5;124mkendall\u001b[39m\u001b[38;5;124m'\u001b[39m\u001b[38;5;124m, or a callable, \u001b[39m\u001b[38;5;124m\"\u001b[39m\n\u001b[1;32m   2564\u001b[0m     \u001b[38;5;124mf\u001b[39m\u001b[38;5;124m\"\u001b[39m\u001b[38;5;124m'\u001b[39m\u001b[38;5;132;01m{\u001b[39;00mmethod\u001b[38;5;132;01m}\u001b[39;00m\u001b[38;5;124m'\u001b[39m\u001b[38;5;124m was supplied\u001b[39m\u001b[38;5;124m\"\u001b[39m\n\u001b[1;32m   2565\u001b[0m )\n",
      "File \u001b[0;32m~/opt/anaconda3/lib/python3.9/site-packages/pandas/core/nanops.py:93\u001b[0m, in \u001b[0;36mdisallow.__call__.<locals>._f\u001b[0;34m(*args, **kwargs)\u001b[0m\n\u001b[1;32m     91\u001b[0m \u001b[38;5;28;01mtry\u001b[39;00m:\n\u001b[1;32m     92\u001b[0m     \u001b[38;5;28;01mwith\u001b[39;00m np\u001b[38;5;241m.\u001b[39merrstate(invalid\u001b[38;5;241m=\u001b[39m\u001b[38;5;124m\"\u001b[39m\u001b[38;5;124mignore\u001b[39m\u001b[38;5;124m\"\u001b[39m):\n\u001b[0;32m---> 93\u001b[0m         \u001b[38;5;28;01mreturn\u001b[39;00m \u001b[43mf\u001b[49m\u001b[43m(\u001b[49m\u001b[38;5;241;43m*\u001b[39;49m\u001b[43margs\u001b[49m\u001b[43m,\u001b[49m\u001b[43m \u001b[49m\u001b[38;5;241;43m*\u001b[39;49m\u001b[38;5;241;43m*\u001b[39;49m\u001b[43mkwargs\u001b[49m\u001b[43m)\u001b[49m\n\u001b[1;32m     94\u001b[0m \u001b[38;5;28;01mexcept\u001b[39;00m \u001b[38;5;167;01mValueError\u001b[39;00m \u001b[38;5;28;01mas\u001b[39;00m e:\n\u001b[1;32m     95\u001b[0m     \u001b[38;5;66;03m# we want to transform an object array\u001b[39;00m\n\u001b[1;32m     96\u001b[0m     \u001b[38;5;66;03m# ValueError message to the more typical TypeError\u001b[39;00m\n\u001b[1;32m     97\u001b[0m     \u001b[38;5;66;03m# e.g. this is normally a disallowed function on\u001b[39;00m\n\u001b[1;32m     98\u001b[0m     \u001b[38;5;66;03m# object arrays that contain strings\u001b[39;00m\n\u001b[1;32m     99\u001b[0m     \u001b[38;5;28;01mif\u001b[39;00m is_object_dtype(args[\u001b[38;5;241m0\u001b[39m]):\n",
      "File \u001b[0;32m~/opt/anaconda3/lib/python3.9/site-packages/pandas/core/nanops.py:1546\u001b[0m, in \u001b[0;36mnancorr\u001b[0;34m(a, b, method, min_periods)\u001b[0m\n\u001b[1;32m   1543\u001b[0m     \u001b[38;5;28;01mreturn\u001b[39;00m np\u001b[38;5;241m.\u001b[39mnan\n\u001b[1;32m   1545\u001b[0m f \u001b[38;5;241m=\u001b[39m get_corr_func(method)\n\u001b[0;32m-> 1546\u001b[0m \u001b[38;5;28;01mreturn\u001b[39;00m \u001b[43mf\u001b[49m\u001b[43m(\u001b[49m\u001b[43ma\u001b[49m\u001b[43m,\u001b[49m\u001b[43m \u001b[49m\u001b[43mb\u001b[49m\u001b[43m)\u001b[49m\n",
      "File \u001b[0;32m~/opt/anaconda3/lib/python3.9/site-packages/pandas/core/nanops.py:1567\u001b[0m, in \u001b[0;36mget_corr_func.<locals>.func\u001b[0;34m(a, b)\u001b[0m\n\u001b[1;32m   1566\u001b[0m \u001b[38;5;28;01mdef\u001b[39;00m \u001b[38;5;21mfunc\u001b[39m(a, b):\n\u001b[0;32m-> 1567\u001b[0m     \u001b[38;5;28;01mreturn\u001b[39;00m \u001b[43mnp\u001b[49m\u001b[38;5;241;43m.\u001b[39;49m\u001b[43mcorrcoef\u001b[49m\u001b[43m(\u001b[49m\u001b[43ma\u001b[49m\u001b[43m,\u001b[49m\u001b[43m \u001b[49m\u001b[43mb\u001b[49m\u001b[43m)\u001b[49m[\u001b[38;5;241m0\u001b[39m, \u001b[38;5;241m1\u001b[39m]\n",
      "File \u001b[0;32m<__array_function__ internals>:5\u001b[0m, in \u001b[0;36mcorrcoef\u001b[0;34m(*args, **kwargs)\u001b[0m\n",
      "File \u001b[0;32m~/opt/anaconda3/lib/python3.9/site-packages/numpy/lib/function_base.py:2683\u001b[0m, in \u001b[0;36mcorrcoef\u001b[0;34m(x, y, rowvar, bias, ddof, dtype)\u001b[0m\n\u001b[1;32m   2679\u001b[0m \u001b[38;5;28;01mif\u001b[39;00m bias \u001b[38;5;129;01mis\u001b[39;00m \u001b[38;5;129;01mnot\u001b[39;00m np\u001b[38;5;241m.\u001b[39m_NoValue \u001b[38;5;129;01mor\u001b[39;00m ddof \u001b[38;5;129;01mis\u001b[39;00m \u001b[38;5;129;01mnot\u001b[39;00m np\u001b[38;5;241m.\u001b[39m_NoValue:\n\u001b[1;32m   2680\u001b[0m     \u001b[38;5;66;03m# 2015-03-15, 1.10\u001b[39;00m\n\u001b[1;32m   2681\u001b[0m     warnings\u001b[38;5;241m.\u001b[39mwarn(\u001b[38;5;124m'\u001b[39m\u001b[38;5;124mbias and ddof have no effect and are deprecated\u001b[39m\u001b[38;5;124m'\u001b[39m,\n\u001b[1;32m   2682\u001b[0m                   \u001b[38;5;167;01mDeprecationWarning\u001b[39;00m, stacklevel\u001b[38;5;241m=\u001b[39m\u001b[38;5;241m3\u001b[39m)\n\u001b[0;32m-> 2683\u001b[0m c \u001b[38;5;241m=\u001b[39m \u001b[43mcov\u001b[49m\u001b[43m(\u001b[49m\u001b[43mx\u001b[49m\u001b[43m,\u001b[49m\u001b[43m \u001b[49m\u001b[43my\u001b[49m\u001b[43m,\u001b[49m\u001b[43m \u001b[49m\u001b[43mrowvar\u001b[49m\u001b[43m,\u001b[49m\u001b[43m \u001b[49m\u001b[43mdtype\u001b[49m\u001b[38;5;241;43m=\u001b[39;49m\u001b[43mdtype\u001b[49m\u001b[43m)\u001b[49m\n\u001b[1;32m   2684\u001b[0m \u001b[38;5;28;01mtry\u001b[39;00m:\n\u001b[1;32m   2685\u001b[0m     d \u001b[38;5;241m=\u001b[39m diag(c)\n",
      "File \u001b[0;32m<__array_function__ internals>:5\u001b[0m, in \u001b[0;36mcov\u001b[0;34m(*args, **kwargs)\u001b[0m\n",
      "File \u001b[0;32m~/opt/anaconda3/lib/python3.9/site-packages/numpy/lib/function_base.py:2518\u001b[0m, in \u001b[0;36mcov\u001b[0;34m(m, y, rowvar, bias, ddof, fweights, aweights, dtype)\u001b[0m\n\u001b[1;32m   2515\u001b[0m     \u001b[38;5;28;01melse\u001b[39;00m:\n\u001b[1;32m   2516\u001b[0m         w \u001b[38;5;241m*\u001b[39m\u001b[38;5;241m=\u001b[39m aweights\n\u001b[0;32m-> 2518\u001b[0m avg, w_sum \u001b[38;5;241m=\u001b[39m \u001b[43maverage\u001b[49m\u001b[43m(\u001b[49m\u001b[43mX\u001b[49m\u001b[43m,\u001b[49m\u001b[43m \u001b[49m\u001b[43maxis\u001b[49m\u001b[38;5;241;43m=\u001b[39;49m\u001b[38;5;241;43m1\u001b[39;49m\u001b[43m,\u001b[49m\u001b[43m \u001b[49m\u001b[43mweights\u001b[49m\u001b[38;5;241;43m=\u001b[39;49m\u001b[43mw\u001b[49m\u001b[43m,\u001b[49m\u001b[43m \u001b[49m\u001b[43mreturned\u001b[49m\u001b[38;5;241;43m=\u001b[39;49m\u001b[38;5;28;43;01mTrue\u001b[39;49;00m\u001b[43m)\u001b[49m\n\u001b[1;32m   2519\u001b[0m w_sum \u001b[38;5;241m=\u001b[39m w_sum[\u001b[38;5;241m0\u001b[39m]\n\u001b[1;32m   2521\u001b[0m \u001b[38;5;66;03m# Determine the normalization\u001b[39;00m\n",
      "File \u001b[0;32m<__array_function__ internals>:5\u001b[0m, in \u001b[0;36maverage\u001b[0;34m(*args, **kwargs)\u001b[0m\n",
      "File \u001b[0;32m~/opt/anaconda3/lib/python3.9/site-packages/numpy/lib/function_base.py:380\u001b[0m, in \u001b[0;36maverage\u001b[0;34m(a, axis, weights, returned)\u001b[0m\n\u001b[1;32m    377\u001b[0m a \u001b[38;5;241m=\u001b[39m np\u001b[38;5;241m.\u001b[39masanyarray(a)\n\u001b[1;32m    379\u001b[0m \u001b[38;5;28;01mif\u001b[39;00m weights \u001b[38;5;129;01mis\u001b[39;00m \u001b[38;5;28;01mNone\u001b[39;00m:\n\u001b[0;32m--> 380\u001b[0m     avg \u001b[38;5;241m=\u001b[39m \u001b[43ma\u001b[49m\u001b[38;5;241;43m.\u001b[39;49m\u001b[43mmean\u001b[49m\u001b[43m(\u001b[49m\u001b[43maxis\u001b[49m\u001b[43m)\u001b[49m\n\u001b[1;32m    381\u001b[0m     scl \u001b[38;5;241m=\u001b[39m avg\u001b[38;5;241m.\u001b[39mdtype\u001b[38;5;241m.\u001b[39mtype(a\u001b[38;5;241m.\u001b[39msize\u001b[38;5;241m/\u001b[39mavg\u001b[38;5;241m.\u001b[39msize)\n\u001b[1;32m    382\u001b[0m \u001b[38;5;28;01melse\u001b[39;00m:\n",
      "File \u001b[0;32m~/opt/anaconda3/lib/python3.9/site-packages/numpy/core/_methods.py:181\u001b[0m, in \u001b[0;36m_mean\u001b[0;34m(a, axis, dtype, out, keepdims, where)\u001b[0m\n\u001b[1;32m    179\u001b[0m ret \u001b[38;5;241m=\u001b[39m umr_sum(arr, axis, dtype, out, keepdims, where\u001b[38;5;241m=\u001b[39mwhere)\n\u001b[1;32m    180\u001b[0m \u001b[38;5;28;01mif\u001b[39;00m \u001b[38;5;28misinstance\u001b[39m(ret, mu\u001b[38;5;241m.\u001b[39mndarray):\n\u001b[0;32m--> 181\u001b[0m     ret \u001b[38;5;241m=\u001b[39m \u001b[43mum\u001b[49m\u001b[38;5;241;43m.\u001b[39;49m\u001b[43mtrue_divide\u001b[49m\u001b[43m(\u001b[49m\n\u001b[1;32m    182\u001b[0m \u001b[43m            \u001b[49m\u001b[43mret\u001b[49m\u001b[43m,\u001b[49m\u001b[43m \u001b[49m\u001b[43mrcount\u001b[49m\u001b[43m,\u001b[49m\u001b[43m \u001b[49m\u001b[43mout\u001b[49m\u001b[38;5;241;43m=\u001b[39;49m\u001b[43mret\u001b[49m\u001b[43m,\u001b[49m\u001b[43m \u001b[49m\u001b[43mcasting\u001b[49m\u001b[38;5;241;43m=\u001b[39;49m\u001b[38;5;124;43m'\u001b[39;49m\u001b[38;5;124;43munsafe\u001b[39;49m\u001b[38;5;124;43m'\u001b[39;49m\u001b[43m,\u001b[49m\u001b[43m \u001b[49m\u001b[43msubok\u001b[49m\u001b[38;5;241;43m=\u001b[39;49m\u001b[38;5;28;43;01mFalse\u001b[39;49;00m\u001b[43m)\u001b[49m\n\u001b[1;32m    183\u001b[0m     \u001b[38;5;28;01mif\u001b[39;00m is_float16_result \u001b[38;5;129;01mand\u001b[39;00m out \u001b[38;5;129;01mis\u001b[39;00m \u001b[38;5;28;01mNone\u001b[39;00m:\n\u001b[1;32m    184\u001b[0m         ret \u001b[38;5;241m=\u001b[39m arr\u001b[38;5;241m.\u001b[39mdtype\u001b[38;5;241m.\u001b[39mtype(ret)\n",
      "\u001b[0;31mTypeError\u001b[0m: unsupported operand type(s) for /: 'str' and 'int'"
     ]
    }
   ],
   "source": [
    "# PIPELINE:\n",
    "\n",
    "# Read input csv files:\n",
    "# sample_data = m.read_expr_profile(\"example_input_sample.csv\")\n",
    "# profile = m.read_TCGA_sample(\"example_profile.csv\")\n",
    "\n",
    "# Check that all are present\n",
    "\n",
    "# Check if all genes in the profile are present\n",
    "is_present = m.check_profile(profile, sample_data)\n",
    "\n",
    "# Checks the match of the sample data and the profile given a certain threshold.\n",
    "threshold = 0.5\n",
    "is_match = m.test_match(profile, sample_data, threshold)\n",
    "\n",
    "\n",
    "# Compute the distance between the reference expression profile and a sample expression profile (correlation)\n",
    "distance = m.compute_distance(profile, sample_data)"
   ]
  },
  {
   "cell_type": "code",
   "execution_count": null,
   "id": "fcc16cae",
   "metadata": {},
   "outputs": [],
   "source": []
  },
  {
   "cell_type": "code",
   "execution_count": 51,
   "id": "be5f81c7",
   "metadata": {},
   "outputs": [
    {
     "name": "stdout",
     "output_type": "stream",
     "text": [
      "gene1      3.0\n",
      "gene3      3.0\n",
      "gene2      9.0\n",
      "gene2      2.0\n",
      "gene6      3.0\n",
      "gene8      3.0\n",
      "gene10     9.0\n",
      "gene12     2.0\n",
      "gene14     3.0\n",
      "gene16     3.0\n",
      "gene18     9.0\n",
      "gene20     2.0\n",
      "gene22     3.0\n",
      "gene24     3.0\n",
      "gene26     9.0\n",
      "gene28     2.0\n",
      "gene30     2.0\n",
      "gene32     5.0\n",
      "gene34     8.0\n",
      "gene36    23.0\n",
      "gene38     5.0\n",
      "dtype: float64\n"
     ]
    }
   ],
   "source": [
    "# Read in data file\n",
    "\n",
    "f1 = open(\"example_input_sample.txt\", \"r\", encoding='UTF-8')\n",
    "f1.readline()\n",
    "\n",
    "index = []\n",
    "values = []\n",
    "for l in f1: \n",
    "    # read every line into the dataframe for sample\n",
    "    #sample.append(pd.Series[])\n",
    "    line = f1.readline()\n",
    "    line = line.split(\"\\t\")\n",
    "    index.append(line[0])\n",
    "    values.append(line[1])\n",
    "\n",
    "sample = pd.Series(values, index, dtype='float64')\n",
    "f1.close()\n",
    "#******************************************************#\n",
    "\n",
    "f2 = open(\"example_profile.txt\", \"r\", encoding='UTF-8')\n",
    "f2.readline()\n",
    "\n",
    "index = []\n",
    "values = []\n",
    "for l in f2: \n",
    "    # read every line into the dataframe for sample\n",
    "    #sample.append(pd.Series[])\n",
    "    line = f2.readline()\n",
    "    line = line.split(\"\\t\")\n",
    "    index.append(line[0])\n",
    "    values.append(line[1])\n",
    "\n",
    "profile = pd.Series(values, index, dtype='float64')\n",
    "f2.close()\n",
    "\n",
    "\n",
    "print(profile)"
   ]
  },
  {
   "cell_type": "code",
   "execution_count": 26,
   "id": "b11a1c63",
   "metadata": {},
   "outputs": [
    {
     "name": "stdout",
     "output_type": "stream",
     "text": [
      "At least one of the data sets is empty.\n",
      "False\n"
     ]
    }
   ],
   "source": [
    "\n",
    "is_match = False\n",
    "is_present = m.check_profile(profile, sample_data)\n",
    "if is_present:\n",
    "    distance = compute_distance(profile, sample_data)\n",
    "    is_match = distance < threshold\n",
    "print(is_match)"
   ]
  },
  {
   "cell_type": "code",
   "execution_count": null,
   "id": "57926b90",
   "metadata": {},
   "outputs": [],
   "source": [
    "# Assume I have two data series with sample data and profile data:\n",
    "# print(sample, profile)"
   ]
  },
  {
   "cell_type": "code",
   "execution_count": 27,
   "id": "8e05499b",
   "metadata": {},
   "outputs": [
    {
     "name": "stdout",
     "output_type": "stream",
     "text": [
      "There is a significant overlap!\n",
      "0.319\n"
     ]
    }
   ],
   "source": [
    "distance = m.compute_distance(profile, sample)\n",
    "\n",
    "print(distance)"
   ]
  },
  {
   "cell_type": "code",
   "execution_count": 6,
   "id": "708bac60",
   "metadata": {},
   "outputs": [
    {
     "name": "stdout",
     "output_type": "stream",
     "text": [
      "There is a significant overlap!\n",
      "0.319\n"
     ]
    }
   ],
   "source": [
    "distance = 1\n",
    "# compute distance here\n",
    "#distance = sample_data - profile\n",
    "set1 = set(sample.index)  # results in removal of duplicates\n",
    "set2 = set(profile.index)      # results in removal of duplicates\n",
    "intersection = list(set1.intersection(set2))  # returns the elements that are the same among set1 and set2\n",
    "overlap_no = len(intersection)  # returns the size of the intersection\n",
    "\n",
    "smaller_set_no = min(len(set1), len(set2))  # len = 3\n",
    "perc_overlap = overlap_no/smaller_set_no  # 1/3 = 0.33\n",
    "\n",
    "#distance = sample_data[intersection].corr(profile[intersection])\n",
    "#distance = round(distance, 3)\n",
    "\n",
    "if (perc_overlap > 0.6):\n",
    "    #distance = sum(abs(sample_data[intersection]-profile[intersection]))  # TAKE CORRELATION\n",
    "    print(\"There is a significant overlap!\")\n",
    "    distance = sample[intersection].corr(profile[intersection])\n",
    "    distance = round(distance, 3)\n",
    "print(distance)\n",
    "\n"
   ]
  },
  {
   "cell_type": "code",
   "execution_count": null,
   "id": "675143a6",
   "metadata": {},
   "outputs": [],
   "source": [
    "# Read in data file\n",
    "\n",
    "# example_input_sample\n",
    "file_name = \"example_input_sample.csv\"\n",
    "profile_df = pd.read_csv(file_name, sep = \";\", encoding=\"UTF-8\")\n",
    "#print(profile_df.iloc[0:,0])\n",
    "#print(profile_df.iloc[0:,1])\n",
    "#print(profile_df)\n",
    "\n",
    "\n",
    "index = profile_df.iloc[:,0]\n",
    "values = profile_df.iloc[:,1]\n",
    "\n",
    "print(index.sort_values(axis = 0))\n",
    "\n",
    "\n",
    "for i in range(len(profile_df)):\n",
    "    if \n",
    "    \n",
    "\n",
    "\n",
    "\n",
    "ref_profile_data = pd.Series(values, index, dtype='float64')\n",
    "sample_data = ref_profile_data\n",
    "#print(ref_profile_data.index)\n",
    "\n"
   ]
  }
 ],
 "metadata": {
  "kernelspec": {
   "display_name": "Python 3 (ipykernel)",
   "language": "python",
   "name": "python3"
  },
  "language_info": {
   "codemirror_mode": {
    "name": "ipython",
    "version": 3
   },
   "file_extension": ".py",
   "mimetype": "text/x-python",
   "name": "python",
   "nbconvert_exporter": "python",
   "pygments_lexer": "ipython3",
   "version": "3.9.16"
  }
 },
 "nbformat": 4,
 "nbformat_minor": 5
}
