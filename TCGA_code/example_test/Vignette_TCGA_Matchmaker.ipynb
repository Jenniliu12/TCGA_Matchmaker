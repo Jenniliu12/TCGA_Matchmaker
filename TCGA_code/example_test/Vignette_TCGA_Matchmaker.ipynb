{
 "cells": [
  {
   "cell_type": "code",
   "execution_count": 8,
   "id": "c1508f87",
   "metadata": {},
   "outputs": [],
   "source": [
    "import pandas as pd\n",
    "import numpy as np\n",
    "from scipy.stats.stats import pearsonr   \n",
    "import matplotlib.pyplot as plt\n",
    "from scipy.stats import zscore\n",
    "import csv\n",
    "from TCGA_code import match_computation as m\n"
   ]
  },
  {
   "cell_type": "markdown",
   "id": "741a6ca1",
   "metadata": {},
   "source": [
    "The software takes in two input gene expression files and analyzes how the gene samples relate to each other.\n",
    "\n",
    "The goal is to check if an (input) gene profile shows similiarity with known cancer gene profiles. \n",
    "\n",
    "1. Load in data\n",
    "2. Pre-Process data\n",
    "3. Compute expression level analysis\n"
   ]
  },
  {
   "cell_type": "code",
   "execution_count": 9,
   "id": "8fa000e5",
   "metadata": {},
   "outputs": [],
   "source": [
    "# 1. Load in data from input files. The files are expected to be in the following format: \n",
    "# columns: [symbol, value]\n",
    "# row: genes\n",
    "\n",
    "file_name = \"example_input_sample.csv\"\n",
    "#file_name = \"kidney_cancer_GEP.csv\"  # real data set\n",
    "profile_df = m.read_expr_profile(file_name)\n",
    "\n",
    "file_name = \"example_profile.csv\"\n",
    "#file_name = \"breast_cancer_GEP.csv\"  # real data set\n",
    "#file_name = \"kidney_2_cancer_GEP.csv\"  # real data set\n",
    "TCGA_df = m.read_TCGA_sample(file_name)\n"
   ]
  },
  {
   "cell_type": "code",
   "execution_count": 10,
   "id": "b588a1dd",
   "metadata": {},
   "outputs": [],
   "source": [
    "# 2. Process the data - Make them be the same length by either removing missing information or adding \n",
    "#    zero expression values. These functions check both input data files both ways.\n",
    "\n",
    "profile, sample, missing_TCGA = m.check_TCGA(profile_df, TCGA_df, add_missing = True, output = False)\n",
    "profile, sample, missing_reference = m.check_profile(profile, sample, add_missing = True, output = False)\n"
   ]
  },
  {
   "cell_type": "code",
   "execution_count": 11,
   "id": "2527e95d",
   "metadata": {},
   "outputs": [],
   "source": [
    "# 3. Normalize expression levels\n",
    "profile = m.normalize_profile(profile, \"mean\")\n",
    "sample = m.normalize_profile(sample, \"mean\")\n"
   ]
  },
  {
   "cell_type": "code",
   "execution_count": 12,
   "id": "09ebc5c1",
   "metadata": {},
   "outputs": [
    {
     "data": {
      "image/png": "[encoded data removed]",
      "text/plain": [
       "<Figure size 432x288 with 1 Axes>"
      ]
     },
     "metadata": {
      "needs_background": "light"
     },
     "output_type": "display_data"
    },
    {
     "name": "stdout",
     "output_type": "stream",
     "text": [
      "The input expression levels show a correlation value of: 0.3577\n",
      "Genes that are missing in the reference profile are:\n",
      " ['gene28', 'gene29', 'gene30', 'gene31', 'gene32', 'gene33', 'gene34', 'gene36', 'gene37', 'gene38', 'gene55']\n",
      "Genes that are missing in the TCGA profile are:\n",
      " ['Gene1000']\n"
     ]
    }
   ],
   "source": [
    "# 4. Data Analysis and evaluation:\n",
    "gene_ratio, similiar_genes = m.expression_analysis(profile, sample)\n",
    "\n",
    "# Bar chart Visualization\n",
    "m.gene_bar_chart(gene_ratio, show = \"percentage\")\n",
    "\n",
    "# Expression values correlation\n",
    "distance = m.compute_distance(profile, sample)\n",
    "\n",
    "print(\"The input expression levels show a correlation value of:\", distance)\n",
    "print(\"Genes that are missing in the reference profile are:\\n\", missing_TCGA)\n",
    "print(\"Genes that are missing in the TCGA profile are:\\n\", missing_reference)\n"
   ]
  },
  {
   "cell_type": "code",
   "execution_count": 13,
   "id": "4e4ecd6c",
   "metadata": {},
   "outputs": [],
   "source": [
    "# File Output:\n",
    "\n",
    "path = \"/Users/jenniliu/Desktop/BIOINF576/TCGA_Matchmaker/TCGA_code/example_test/Missing_Genes.csv\"\n",
    "with open(path, 'w+', newline = '') as csvfile:\n",
    "    my_writer = csv.writer(csvfile, delimiter = ' ')\n",
    "    text = \"\"\n",
    "    text += \"Missing Genes reference profile are:\\n\" #+ missing_TCGA\n",
    "    for gene in missing_reference:\n",
    "        text += f\"\\n{gene}\"\n",
    "\n",
    "    text += \"\\nMissing Genes TCGA profile are:\\n\" #+ missing_reference\n",
    "    for gene in missing_TCGA:\n",
    "        text += f\"\\n{gene}\"\n",
    "\n",
    "    my_writer.writerow(text)\n",
    "    "
   ]
  },
  {
   "cell_type": "code",
   "execution_count": 14,
   "id": "ec590983",
   "metadata": {},
   "outputs": [],
   "source": [
    "path = \"/Users/jenniliu/Desktop/BIOINF576/TCGA_Matchmaker/TCGA_code/example_test/Similiar_Genes.csv\"\n",
    "with open(path, 'w+', newline = '') as csvfile:\n",
    "    my_writer = csv.writer(csvfile, delimiter = ' ')\n",
    "    my_writer.writerow(\"Similiar_Genes\")\n",
    "    text = \"\"\n",
    "    for gene in similiar_genes:\n",
    "        idx = int(gene)\n",
    "        text += f\"\\n{sample.iloc[idx,0]}\"\n",
    "    my_writer.writerow(text)\n"
   ]
  }
 ],
 "metadata": {
  "kernelspec": {
   "display_name": "Python 3 (ipykernel)",
   "language": "python",
   "name": "python3"
  },
  "language_info": {
   "codemirror_mode": {
    "name": "ipython",
    "version": 3
   },
   "file_extension": ".py",
   "mimetype": "text/x-python",
   "name": "python",
   "nbconvert_exporter": "python",
   "pygments_lexer": "ipython3",
   "version": "3.9.16"
  }
 },
 "nbformat": 4,
 "nbformat_minor": 5
}
