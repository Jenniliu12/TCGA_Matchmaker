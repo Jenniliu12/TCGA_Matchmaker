{
 "cells": [
  {
   "cell_type": "code",
   "execution_count": 4,
   "id": "c1508f87",
   "metadata": {},
   "outputs": [],
   "source": [
    "import pandas as pd\n",
    "import numpy as np\n",
    "from scipy.stats.stats import pearsonr   \n",
    "from TCGA_code import match_computation as m\n"
   ]
  },
  {
   "cell_type": "code",
   "execution_count": null,
   "id": "4318ad9c",
   "metadata": {},
   "outputs": [],
   "source": [
    "'''\n",
    "The software takes in two input gene expression files and analyzes how the gene samples relate to each other.\n",
    "\n",
    "The goal is to check if an (input) gene profile shows similiarity with known cancer gene profiles. \n",
    "\n",
    "1. Load in data\n",
    "2. Pre-Process data\n",
    "3. Compute expression level analysis\n",
    "\n",
    "'''"
   ]
  },
  {
   "cell_type": "code",
   "execution_count": 9,
   "id": "8fa000e5",
   "metadata": {},
   "outputs": [
    {
     "name": "stdout",
     "output_type": "stream",
     "text": [
      "0      2.5\n",
      "1      9.0\n",
      "2     10.0\n",
      "3      2.0\n",
      "4      2.0\n",
      "5      3.0\n",
      "6      4.0\n",
      "7      3.0\n",
      "8      2.0\n",
      "9      9.0\n",
      "10    10.0\n",
      "11     5.0\n",
      "12    20.0\n",
      "13     5.0\n",
      "14     8.0\n",
      "15    12.0\n",
      "16     4.0\n",
      "17     1.0\n",
      "18    41.0\n",
      "19    12.0\n",
      "20     6.0\n",
      "21    11.0\n",
      "22     6.5\n",
      "23     2.0\n",
      "24     2.0\n",
      "25     5.0\n",
      "26     6.0\n",
      "27     8.0\n",
      "28    23.0\n",
      "29     4.0\n",
      "30     5.0\n",
      "31     2.0\n",
      "32     2.0\n",
      "33     9.0\n",
      "34     3.0\n",
      "35     4.0\n",
      "36     3.0\n",
      "37     2.0\n",
      "Name: value, dtype: float64\n"
     ]
    },
    {
     "ename": "AttributeError",
     "evalue": "module 'TCGA_code.match_computation' has no attribute 'normalize_profile'",
     "output_type": "error",
     "traceback": [
      "\u001b[0;31m---------------------------------------------------------------------------\u001b[0m",
      "\u001b[0;31mAttributeError\u001b[0m                            Traceback (most recent call last)",
      "Input \u001b[0;32mIn [9]\u001b[0m, in \u001b[0;36m<cell line: 14>\u001b[0;34m()\u001b[0m\n\u001b[1;32m     11\u001b[0m TCGA_df \u001b[38;5;241m=\u001b[39m m\u001b[38;5;241m.\u001b[39mread_TCGA_sample(file_name)\n\u001b[1;32m     13\u001b[0m \u001b[38;5;28mprint\u001b[39m(TCGA_df\u001b[38;5;241m.\u001b[39miloc[:,\u001b[38;5;241m1\u001b[39m])\n\u001b[0;32m---> 14\u001b[0m TCGA_df \u001b[38;5;241m=\u001b[39m \u001b[43mm\u001b[49m\u001b[38;5;241;43m.\u001b[39;49m\u001b[43mnormalize_profile\u001b[49m(TCGA_df, \u001b[38;5;124m\"\u001b[39m\u001b[38;5;124mz-score\u001b[39m\u001b[38;5;124m\"\u001b[39m)\n\u001b[1;32m     15\u001b[0m \u001b[38;5;28mprint\u001b[39m(TCGA_df\u001b[38;5;241m.\u001b[39miloc[:,\u001b[38;5;241m1\u001b[39m])\n",
      "\u001b[0;31mAttributeError\u001b[0m: module 'TCGA_code.match_computation' has no attribute 'normalize_profile'"
     ]
    }
   ],
   "source": [
    "# 1. Load in data from input files. The files are expected to be in the following format: \n",
    "# columns: [symbol, value]\n",
    "# row: genes\n",
    "\n",
    "file_name = \"example_input_sample.csv\"\n",
    "#file_name = \"kidney_cancer_GEP.csv\"  # real data set\n",
    "profile_df = m.read_expr_profile(file_name)\n",
    "\n",
    "file_name = \"example_profile.csv\"\n",
    "#file_name = \"breast_cancer_GEP.csv\"  # real data set\n",
    "TCGA_df = m.read_TCGA_sample(file_name)\n",
    "\n",
    "print(TCGA_df.iloc[:,1])\n",
    "TCGA_df = m.normalize_profile(TCGA_df, \"z-score\")\n",
    "print(TCGA_df.iloc[:,1])"
   ]
  },
  {
   "cell_type": "code",
   "execution_count": null,
   "id": "b588a1dd",
   "metadata": {},
   "outputs": [],
   "source": [
    "# 2. Process the data - Make them be the same length by either removing missing information or adding \n",
    "#    zero expression values. These functions check both input data files both ways.\n",
    "\n",
    "profile, sample, missing_TCGA = m.check_TCGA(profile_df, TCGA_df, add_missing = True, output = False)\n",
    "profile, sample, missing_reference = m.check_profile(profile, sample, add_missing = True, output = False)\n"
   ]
  },
  {
   "cell_type": "code",
   "execution_count": null,
   "id": "4e4ecd6c",
   "metadata": {},
   "outputs": [],
   "source": [
    "# 3. Compute the correlation\n",
    "\n",
    "distance = m.compute_distance(profile, sample)\n",
    "\n",
    "print(\"The input expression levels show a correlation value of:\", distance, \"when zero expression levels are added.\")\n",
    "print(\"Genes that are missing in the reference profile are:\\n\", missing_TCGA)\n",
    "print(\"Genes that are missing in the TCGA profile are:\\n\", missing_reference)"
   ]
  }
 ],
 "metadata": {
  "kernelspec": {
   "display_name": "Python 3 (ipykernel)",
   "language": "python",
   "name": "python3"
  },
  "language_info": {
   "codemirror_mode": {
    "name": "ipython",
    "version": 3
   },
   "file_extension": ".py",
   "mimetype": "text/x-python",
   "name": "python",
   "nbconvert_exporter": "python",
   "pygments_lexer": "ipython3",
   "version": "3.9.16"
  }
 },
 "nbformat": 4,
 "nbformat_minor": 5
}
