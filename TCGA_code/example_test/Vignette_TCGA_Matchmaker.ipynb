{
 "cells": [
  {
   "cell_type": "code",
   "execution_count": 1,
   "id": "c1508f87",
   "metadata": {},
   "outputs": [],
   "source": [
    "import pandas as pd\n",
    "import numpy as np\n",
    "from scipy.stats.stats import pearsonr   \n",
    "from TCGA_code import match_computation as m"
   ]
  },
  {
   "cell_type": "code",
   "execution_count": 2,
   "id": "4318ad9c",
   "metadata": {},
   "outputs": [
    {
     "data": {
      "text/plain": [
       "'\\nThe software takes in two input gene expression files and analyzes how the gene samples relate to each other.\\n\\nThe goal is to check if an (input) gene profile shows similiarity with known cancer gene profiles. \\n\\n1. Load in data\\n2. Pre-Process data\\n3. Compute expression level analysis\\n\\n\\n'"
      ]
     },
     "execution_count": 2,
     "metadata": {},
     "output_type": "execute_result"
    }
   ],
   "source": [
    "'''\n",
    "The software takes in two input gene expression files and analyzes how the gene samples relate to each other.\n",
    "\n",
    "The goal is to check if an (input) gene profile shows similiarity with known cancer gene profiles. \n",
    "\n",
    "1. Load in data\n",
    "2. Pre-Process data\n",
    "3. Compute expression level analysis\n",
    "\n",
    "'''"
   ]
  },
  {
   "cell_type": "code",
   "execution_count": 2,
   "id": "8fa000e5",
   "metadata": {},
   "outputs": [],
   "source": [
    "# 1. Load in data from input files. The files are expected to be in the following format: \n",
    "# columns: [symbol, value]\n",
    "# row: genes\n",
    "\n",
    "file_name = \"example_input_sample.csv\"\n",
    "profile_df = m.read_expr_profile(file_name)\n",
    "\n",
    "file_name = \"example_profile.csv\"\n",
    "TCGA_df = m.read_TCGA_sample(file_name)\n"
   ]
  },
  {
   "cell_type": "code",
   "execution_count": 3,
   "id": "b588a1dd",
   "metadata": {},
   "outputs": [],
   "source": [
    "# 2. Process the data - Make them be the same length by either removing missing information or adding \n",
    "#    zero expression values. These functions check both input data files both ways.\n",
    "\n",
    "profile, sample, missing_TCGA = m.check_TCGA(profile_df, TCGA_df, add_missing = True, output = False)\n",
    "profile, sample, missing_reference = m.check_profile(profile, sample, add_missing = True, output = False)\n"
   ]
  },
  {
   "cell_type": "code",
   "execution_count": 11,
   "id": "4e4ecd6c",
   "metadata": {},
   "outputs": [
    {
     "name": "stdout",
     "output_type": "stream",
     "text": [
      "The input expression levels show a correlation value of: 0.3577 when zero expression levels are added.\n",
      "Genes that are missing in the reference profile are:\n",
      " ['gene28', 'gene29', 'gene30', 'gene31', 'gene32', 'gene33', 'gene34', 'gene36', 'gene37', 'gene38', 'gene55']\n",
      "Genes that are missing in the TCGA profile are:\n",
      " ['Gene1000']\n"
     ]
    }
   ],
   "source": [
    "# 3. Compute the correlation\n",
    "\n",
    "distance = m.compute_distance(profile, sample)\n",
    "\n",
    "print(\"The input expression levels show a correlation value of:\", distance, \"when zero expression levels are added.\")\n",
    "print(\"Genes that are missing in the reference profile are:\\n\", missing_TCGA)\n",
    "print(\"Genes that are missing in the TCGA profile are:\\n\", missing_reference)"
   ]
  }
 ],
 "metadata": {
  "kernelspec": {
   "display_name": "Python 3 (ipykernel)",
   "language": "python",
   "name": "python3"
  },
  "language_info": {
   "codemirror_mode": {
    "name": "ipython",
    "version": 3
   },
   "file_extension": ".py",
   "mimetype": "text/x-python",
   "name": "python",
   "nbconvert_exporter": "python",
   "pygments_lexer": "ipython3",
   "version": "3.9.16"
  }
 },
 "nbformat": 4,
 "nbformat_minor": 5
}
