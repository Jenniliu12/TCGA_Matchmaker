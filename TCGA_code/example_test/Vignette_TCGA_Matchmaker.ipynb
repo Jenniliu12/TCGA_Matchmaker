{
 "cells": [
  {
   "cell_type": "code",
   "execution_count": 1,
   "id": "c1508f87",
   "metadata": {},
   "outputs": [],
   "source": [
    "import pandas as pd\n",
    "import numpy as np\n",
    "from scipy.stats.stats import pearsonr   \n",
    "from TCGA_code import match_computation as m\n",
    "\n",
    "import matplotlib.pyplot as plt\n",
    "from scipy.stats import zscore"
   ]
  },
  {
   "cell_type": "code",
   "execution_count": 2,
   "id": "4318ad9c",
   "metadata": {},
   "outputs": [
    {
     "data": {
      "text/plain": [
       "'\\nThe software takes in two input gene expression files and analyzes how the gene samples relate to each other.\\n\\nThe goal is to check if an (input) gene profile shows similiarity with known cancer gene profiles. \\n\\n1. Load in data\\n2. Pre-Process data\\n3. Compute expression level analysis\\n\\n'"
      ]
     },
     "execution_count": 2,
     "metadata": {},
     "output_type": "execute_result"
    }
   ],
   "source": [
    "'''\n",
    "The software takes in two input gene expression files and analyzes how the gene samples relate to each other.\n",
    "\n",
    "The goal is to check if an (input) gene profile shows similiarity with known cancer gene profiles. \n",
    "\n",
    "1. Load in data\n",
    "2. Pre-Process data\n",
    "3. Compute expression level analysis\n",
    "\n",
    "'''"
   ]
  },
  {
   "cell_type": "code",
   "execution_count": 17,
   "id": "8fa000e5",
   "metadata": {},
   "outputs": [],
   "source": [
    "# 1. Load in data from input files. The files are expected to be in the following format: \n",
    "# columns: [symbol, value]\n",
    "# row: genes\n",
    "\n",
    "file_name = \"example_input_sample.csv\"\n",
    "file_name = \"kidney_cancer_GEP.csv\"  # real data set\n",
    "profile_df = m.read_expr_profile(file_name)\n",
    "\n",
    "file_name = \"example_profile.csv\"\n",
    "file_name = \"kidney_2_cancer_GEP.csv\"  # real data set\n",
    "TCGA_df = m.read_TCGA_sample(file_name)\n"
   ]
  },
  {
   "cell_type": "code",
   "execution_count": 18,
   "id": "b588a1dd",
   "metadata": {},
   "outputs": [],
   "source": [
    "# 2. Process the data - Make them be the same length by either removing missing information or adding \n",
    "#    zero expression values. These functions check both input data files both ways.\n",
    "\n",
    "profile, sample, missing_TCGA = m.check_TCGA(profile_df, TCGA_df, add_missing = True, output = False)\n",
    "profile, sample, missing_reference = m.check_profile(profile, sample, add_missing = True, output = False)\n",
    "\n",
    "# 3. Normalize expression levels\n",
    "profile = m.normalize_profile(profile, \"mean\")\n",
    "sample = m.normalize_profile(sample, \"mean\")"
   ]
  },
  {
   "cell_type": "code",
   "execution_count": 19,
   "id": "09ebc5c1",
   "metadata": {},
   "outputs": [
    {
     "data": {
      "image/png": "[encoded data removed]",
      "text/plain": [
       "<Figure size 432x288 with 1 Axes>"
      ]
     },
     "metadata": {
      "needs_background": "light"
     },
     "output_type": "display_data"
    },
    {
     "name": "stdout",
     "output_type": "stream",
     "text": [
      "The input expression levels show a correlation value of: 1.0\n",
      "Genes that are missing in the reference profile are:\n",
      " []\n",
      "Genes that are missing in the TCGA profile are:\n",
      " []\n"
     ]
    }
   ],
   "source": [
    "# 4. Data Analysis and evaluation:\n",
    "gene_ratio, sim = m.expression_analysis(profile, sample)\n",
    "\n",
    "# Bar chart Visualization\n",
    "m.gene_bar_chart(gene_ratio, show = \"percentage\")\n",
    "\n",
    "# Expression values correlation\n",
    "distance = m.compute_distance(profile, sample)\n",
    "\n",
    "print(\"The input expression levels show a correlation value of:\", distance)\n",
    "print(\"Genes that are missing in the reference profile are:\\n\", missing_TCGA)\n",
    "print(\"Genes that are missing in the TCGA profile are:\\n\", missing_reference)"
   ]
  },
  {
   "cell_type": "code",
   "execution_count": 8,
   "id": "4e4ecd6c",
   "metadata": {},
   "outputs": [
    {
     "name": "stdout",
     "output_type": "stream",
     "text": [
      "The input expression levels show a correlation value of: 0.5271\n",
      "Genes that are missing in the reference profile are:\n",
      " []\n",
      "Genes that are missing in the TCGA profile are:\n",
      " []\n"
     ]
    }
   ],
   "source": [
    "\n"
   ]
  }
 ],
 "metadata": {
  "kernelspec": {
   "display_name": "Python 3 (ipykernel)",
   "language": "python",
   "name": "python3"
  },
  "language_info": {
   "codemirror_mode": {
    "name": "ipython",
    "version": 3
   },
   "file_extension": ".py",
   "mimetype": "text/x-python",
   "name": "python",
   "nbconvert_exporter": "python",
   "pygments_lexer": "ipython3",
   "version": "3.9.16"
  }
 },
 "nbformat": 4,
 "nbformat_minor": 5
}
