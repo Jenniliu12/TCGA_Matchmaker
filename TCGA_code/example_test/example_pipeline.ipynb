{
 "cells": [
  {
   "cell_type": "code",
   "execution_count": 3,
   "id": "aab06a8e",
   "metadata": {},
   "outputs": [],
   "source": [
    "import pandas as pd\n",
    "import numpy as np\n",
    "from TCGA_code import match_computation as m\n",
    "\n"
   ]
  },
  {
   "cell_type": "code",
   "execution_count": 4,
   "id": "a74a8806",
   "metadata": {},
   "outputs": [
    {
     "name": "stderr",
     "output_type": "stream",
     "text": [
      " FutureWarning:/Users/jenniliu/opt/anaconda3/lib/python3.9/site-packages/TCGA_code/match_computation.py:28: The squeeze argument has been deprecated and will be removed in a future version. Append .squeeze(\"columns\") to the call to squeeze.\n",
      "\n",
      "\n"
     ]
    },
    {
     "ename": "UnboundLocalError",
     "evalue": "local variable 'ref_profile_data' referenced before assignment",
     "output_type": "error",
     "traceback": [
      "\u001b[0;31m---------------------------------------------------------------------------\u001b[0m",
      "\u001b[0;31mUnboundLocalError\u001b[0m                         Traceback (most recent call last)",
      "Input \u001b[0;32mIn [4]\u001b[0m, in \u001b[0;36m<cell line: 3>\u001b[0;34m()\u001b[0m\n\u001b[1;32m      1\u001b[0m \u001b[38;5;66;03m# Read in data file\u001b[39;00m\n\u001b[0;32m----> 3\u001b[0m sample_data \u001b[38;5;241m=\u001b[39m \u001b[43mm\u001b[49m\u001b[38;5;241;43m.\u001b[39;49m\u001b[43mread_expr_profile\u001b[49m\u001b[43m(\u001b[49m\u001b[38;5;124;43m\"\u001b[39;49m\u001b[38;5;124;43mexample_input_sample.csv\u001b[39;49m\u001b[38;5;124;43m\"\u001b[39;49m\u001b[43m)\u001b[49m\n\u001b[1;32m      4\u001b[0m profile \u001b[38;5;241m=\u001b[39m m\u001b[38;5;241m.\u001b[39mread_TCGA_sample(\u001b[38;5;124m\"\u001b[39m\u001b[38;5;124mexample_profile.csv\u001b[39m\u001b[38;5;124m\"\u001b[39m)\n",
      "File \u001b[0;32m~/opt/anaconda3/lib/python3.9/site-packages/TCGA_code/match_computation.py:31\u001b[0m, in \u001b[0;36mread_expr_profile\u001b[0;34m(file_name)\u001b[0m\n\u001b[1;32m     28\u001b[0m profile_df \u001b[38;5;241m=\u001b[39m pd\u001b[38;5;241m.\u001b[39mread_csv(file_name, sep \u001b[38;5;241m=\u001b[39m \u001b[38;5;124m\"\u001b[39m\u001b[38;5;130;01m\\t\u001b[39;00m\u001b[38;5;124m\"\u001b[39m, squeeze \u001b[38;5;241m=\u001b[39m \u001b[38;5;28;01mTrue\u001b[39;00m)\n\u001b[1;32m     30\u001b[0m \u001b[38;5;66;03m# index = gene symbols\u001b[39;00m\n\u001b[0;32m---> 31\u001b[0m index \u001b[38;5;241m=\u001b[39m \u001b[43mref_profile_data\u001b[49m\u001b[38;5;241m.\u001b[39miloc[:,\u001b[38;5;241m1\u001b[39m]\n\u001b[1;32m     33\u001b[0m \u001b[38;5;66;03m# values = gene_expression\u001b[39;00m\n\u001b[1;32m     34\u001b[0m values \u001b[38;5;241m=\u001b[39m ref_profile_data\u001b[38;5;241m.\u001b[39miloc[:,\u001b[38;5;241m2\u001b[39m]\n",
      "\u001b[0;31mUnboundLocalError\u001b[0m: local variable 'ref_profile_data' referenced before assignment"
     ]
    }
   ],
   "source": [
    "# Read in data file\n",
    "\n",
    "sample_data = m.read_expr_profile(\"example_input_sample.csv\")\n",
    "profile = m.read_TCGA_sample(\"example_profile.csv\")\n"
   ]
  },
  {
   "cell_type": "code",
   "execution_count": null,
   "id": "50e18886",
   "metadata": {},
   "outputs": [],
   "source": [
    "\n",
    "is_match = m.test_match(profile, sample_data, threshold)\n",
    "is_present = m.check_profile(profile, sample_data)\n",
    "\n",
    "distance = m.compute_distance(profile, sample_data)"
   ]
  },
  {
   "cell_type": "code",
   "execution_count": null,
   "id": "1b32185a",
   "metadata": {},
   "outputs": [],
   "source": []
  },
  {
   "cell_type": "code",
   "execution_count": null,
   "id": "774a749c",
   "metadata": {},
   "outputs": [],
   "source": []
  },
  {
   "cell_type": "code",
   "execution_count": null,
   "id": "fcc16cae",
   "metadata": {},
   "outputs": [],
   "source": []
  },
  {
   "cell_type": "code",
   "execution_count": null,
   "id": "be5f81c7",
   "metadata": {},
   "outputs": [],
   "source": [
    "# Read in data file\n",
    "\n",
    "f1 = open(\"example_input_sample.txt\", \"r\", encoding='UTF-8')\n",
    "f1.readline()\n",
    "\n",
    "index = []\n",
    "values = []\n",
    "for l in f1: \n",
    "    # read every line into the dataframe for sample\n",
    "    #sample.append(pd.Series[])\n",
    "    line = f1.readline()\n",
    "    line = line.split(\"\\t\")\n",
    "    index.append(line[0])\n",
    "    values.append(line[1])\n",
    "\n",
    "sample = pd.Series(values, index, dtype='float64')\n",
    "f1.close()\n",
    "#******************************************************#\n",
    "\n",
    "f2 = open(\"example_profile.txt\", \"r\", encoding='UTF-8')\n",
    "f2.readline()\n",
    "\n",
    "index = []\n",
    "values = []\n",
    "for l in f2: \n",
    "    # read every line into the dataframe for sample\n",
    "    #sample.append(pd.Series[])\n",
    "    line = f2.readline()\n",
    "    line = line.split(\"\\t\")\n",
    "    index.append(line[0])\n",
    "    values.append(line[1])\n",
    "\n",
    "profile = pd.Series(values, index, dtype='float64')\n",
    "f2.close()\n"
   ]
  },
  {
   "cell_type": "code",
   "execution_count": null,
   "id": "57926b90",
   "metadata": {},
   "outputs": [],
   "source": [
    "# Assume I have two data series with sample data and profile data:\n",
    "# print(sample, profile)"
   ]
  },
  {
   "cell_type": "code",
   "execution_count": null,
   "id": "8e05499b",
   "metadata": {},
   "outputs": [],
   "source": [
    "distance = m.compute_distance(profile, sample)\n",
    "\n",
    "print(distance)"
   ]
  },
  {
   "cell_type": "code",
   "execution_count": null,
   "id": "708bac60",
   "metadata": {},
   "outputs": [],
   "source": [
    "distance = 1\n",
    "# compute distance here\n",
    "#distance = sample_data - profile\n",
    "set1 = set(sample.index)  # results in removal of duplicates\n",
    "set2 = set(profile.index)      # results in removal of duplicates\n",
    "intersection = list(set1.intersection(set2))  # returns the elements that are the same among set1 and set2\n",
    "overlap_no = len(intersection)  # returns the size of the intersection\n",
    "\n",
    "smaller_set_no = min(len(set1), len(set2))  # len = 3\n",
    "perc_overlap = overlap_no/smaller_set_no  # 1/3 = 0.33\n",
    "\n",
    "#distance = sample_data[intersection].corr(profile[intersection])\n",
    "#distance = round(distance, 3)\n",
    "\n",
    "if (perc_overlap > 0.6):\n",
    "    #distance = sum(abs(sample_data[intersection]-profile[intersection]))  # TAKE CORRELATION\n",
    "    print(\"There is a significant overlap!\")\n",
    "    distance = sample[intersection].corr(profile[intersection])\n",
    "    distance = round(distance, 3)\n",
    "print(distance)"
   ]
  }
 ],
 "metadata": {
  "kernelspec": {
   "display_name": "Python 3 (ipykernel)",
   "language": "python",
   "name": "python3"
  },
  "language_info": {
   "codemirror_mode": {
    "name": "ipython",
    "version": 3
   },
   "file_extension": ".py",
   "mimetype": "text/x-python",
   "name": "python",
   "nbconvert_exporter": "python",
   "pygments_lexer": "ipython3",
   "version": "3.9.16"
  }
 },
 "nbformat": 4,
 "nbformat_minor": 5
}
