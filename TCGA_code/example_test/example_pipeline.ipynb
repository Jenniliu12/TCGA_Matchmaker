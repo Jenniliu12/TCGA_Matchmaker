{
 "cells": [
  {
   "cell_type": "code",
   "execution_count": 2,
   "id": "aab06a8e",
   "metadata": {},
   "outputs": [],
   "source": [
    "import pandas as pd\n",
    "import numpy as np\n",
    "from TCGA_code import match_computation as m\n",
    "\n"
   ]
  },
  {
   "cell_type": "code",
   "execution_count": 9,
   "id": "02ab96bc",
   "metadata": {},
   "outputs": [],
   "source": [
    "# Read in data file as .txt\n",
    "\n",
    "f1 = open(\"example_input_sample.txt\", \"r\", encoding='UTF-8')\n",
    "f1.readline()\n",
    "\n",
    "index = []\n",
    "values = []\n",
    "for l in f1: \n",
    "    # read every line into the dataframe for sample\n",
    "    #sample.append(pd.Series[])\n",
    "    line = f1.readline()\n",
    "    line = line.split(\"\\t\")\n",
    "    index.append(line[0])\n",
    "    values.append(line[1])\n",
    "\n",
    "sample = pd.Series(values, index, dtype='float64')\n",
    "f1.close()\n",
    "#******************************************************#\n",
    "\n",
    "f2 = open(\"example_profile.txt\", \"r\", encoding='UTF-8')\n",
    "f2.readline()\n",
    "\n",
    "index = []\n",
    "values = []\n",
    "for l in f2: \n",
    "    # read every line into the dataframe for sample\n",
    "    #sample.append(pd.Series[])\n",
    "    line = f2.readline()\n",
    "    line = line.split(\"\\t\")\n",
    "    index.append(line[0])\n",
    "    values.append(line[1])\n",
    "\n",
    "profile = pd.Series(values, index, dtype='float64')\n",
    "f2.close()\n",
    "\n",
    "# print(profile)"
   ]
  },
  {
   "cell_type": "code",
   "execution_count": 8,
   "id": "774a749c",
   "metadata": {},
   "outputs": [
    {
     "name": "stdout",
     "output_type": "stream",
     "text": [
      "At least one of the data sets is empty.\n",
      "At least one of the data sets is empty.\n",
      "There is a significant overlap!\n",
      "0.319\n"
     ]
    }
   ],
   "source": [
    "# PIPELINE:\n",
    "\n",
    "# Read input csv files:\n",
    "#sample_data = m.read_expr_profile(\"example_input_sample.csv\")\n",
    "#profile = m.read_TCGA_sample(\"example_profile.csv\")\n",
    "\n",
    "# Check that all are present\n",
    "\n",
    "# Check if all genes in the profile are present\n",
    "is_present = m.check_profile(profile, sample)\n",
    "\n",
    "# Checks the match of the sample data and the profile given a certain threshold.\n",
    "threshold = 0.5\n",
    "is_match = m.test_match(profile, sample, threshold)\n",
    "\n",
    "\n",
    "# Compute the distance between the reference expression profile and a sample expression profile (correlation)\n",
    "distance = m.compute_distance(profile, sample)\n",
    "print(distance)\n",
    "# This is the correlation value of the two gene expression level files.\n"
   ]
  }
 ],
 "metadata": {
  "kernelspec": {
   "display_name": "Python 3 (ipykernel)",
   "language": "python",
   "name": "python3"
  },
  "language_info": {
   "codemirror_mode": {
    "name": "ipython",
    "version": 3
   },
   "file_extension": ".py",
   "mimetype": "text/x-python",
   "name": "python",
   "nbconvert_exporter": "python",
   "pygments_lexer": "ipython3",
   "version": "3.9.16"
  }
 },
 "nbformat": 4,
 "nbformat_minor": 5
}
