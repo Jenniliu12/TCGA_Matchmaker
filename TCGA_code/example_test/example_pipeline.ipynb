{
 "cells": [
  {
   "cell_type": "code",
   "execution_count": 1,
   "id": "aab06a8e",
   "metadata": {},
   "outputs": [],
   "source": [
    "import pandas as pd\n",
    "import numpy as np\n",
    "from TCGA_code import match_computation as m\n",
    "\n"
   ]
  },
  {
   "cell_type": "code",
   "execution_count": null,
   "id": "a74a8806",
   "metadata": {},
   "outputs": [],
   "source": []
  },
  {
   "cell_type": "code",
   "execution_count": 2,
   "id": "be5f81c7",
   "metadata": {},
   "outputs": [],
   "source": [
    "# Read in data file\n",
    "\n",
    "f1 = open(\"example_input_sample.txt\", \"r\", encoding='UTF-8')\n",
    "f1.readline()\n",
    "\n",
    "index = []\n",
    "values = []\n",
    "for l in f1: \n",
    "    # read every line into the dataframe for sample\n",
    "    #sample.append(pd.Series[])\n",
    "    line = f1.readline()\n",
    "    line = line.split(\"\\t\")\n",
    "    index.append(line[0])\n",
    "    values.append(line[1])\n",
    "\n",
    "sample = pd.Series(values, index, dtype='float64')\n",
    "f1.close()\n",
    "#******************************************************#\n",
    "\n",
    "f2 = open(\"example_profile.txt\", \"r\", encoding='UTF-8')\n",
    "f2.readline()\n",
    "\n",
    "index = []\n",
    "values = []\n",
    "for l in f2: \n",
    "    # read every line into the dataframe for sample\n",
    "    #sample.append(pd.Series[])\n",
    "    line = f2.readline()\n",
    "    line = line.split(\"\\t\")\n",
    "    index.append(line[0])\n",
    "    values.append(line[1])\n",
    "\n",
    "profile = pd.Series(values, index, dtype='float64')\n",
    "f2.close()\n"
   ]
  },
  {
   "cell_type": "code",
   "execution_count": 6,
   "id": "57926b90",
   "metadata": {},
   "outputs": [],
   "source": [
    "# Assume I have two data series with sample data and profile data:\n",
    "# print(sample, profile)"
   ]
  },
  {
   "cell_type": "code",
   "execution_count": 8,
   "id": "8e05499b",
   "metadata": {},
   "outputs": [
    {
     "name": "stdout",
     "output_type": "stream",
     "text": [
      "10\n"
     ]
    },
    {
     "name": "stderr",
     "output_type": "stream",
     "text": [
      " FutureWarning:/Users/jenniliu/opt/anaconda3/lib/python3.9/site-packages/TCGA_code/match_computation.py:150: Passing a set as an indexer is deprecated and will raise in a future version. Use a list instead.\n",
      " FutureWarning:/Users/jenniliu/opt/anaconda3/lib/python3.9/site-packages/TCGA_code/match_computation.py:150: Passing a set as an indexer is deprecated and will raise in a future version. Use a list instead.\n"
     ]
    }
   ],
   "source": [
    "distance = m.compute_distance(profile, sample)\n",
    "\n",
    "print(distance)"
   ]
  },
  {
   "cell_type": "code",
   "execution_count": 7,
   "id": "708bac60",
   "metadata": {},
   "outputs": [
    {
     "name": "stdout",
     "output_type": "stream",
     "text": [
      "There is a significant overlap!\n",
      "0.319\n"
     ]
    }
   ],
   "source": [
    "distance = 1\n",
    "# compute distance here\n",
    "#distance = sample_data - profile\n",
    "set1 = set(sample.index)  # results in removal of duplicates\n",
    "set2 = set(profile.index)      # results in removal of duplicates\n",
    "intersection = list(set1.intersection(set2))  # returns the elements that are the same among set1 and set2\n",
    "overlap_no = len(intersection)  # returns the size of the intersection\n",
    "\n",
    "smaller_set_no = min(len(set1), len(set2))  # len = 3\n",
    "perc_overlap = overlap_no/smaller_set_no  # 1/3 = 0.33\n",
    "\n",
    "#distance = sample_data[intersection].corr(profile[intersection])\n",
    "#distance = round(distance, 3)\n",
    "\n",
    "if (perc_overlap > 0.6):\n",
    "    #distance = sum(abs(sample_data[intersection]-profile[intersection]))  # TAKE CORRELATION\n",
    "    print(\"There is a significant overlap!\")\n",
    "    distance = sample[intersection].corr(profile[intersection])\n",
    "    distance = round(distance, 3)\n",
    "print(distance)"
   ]
  }
 ],
 "metadata": {
  "kernelspec": {
   "display_name": "Python 3 (ipykernel)",
   "language": "python",
   "name": "python3"
  },
  "language_info": {
   "codemirror_mode": {
    "name": "ipython",
    "version": 3
   },
   "file_extension": ".py",
   "mimetype": "text/x-python",
   "name": "python",
   "nbconvert_exporter": "python",
   "pygments_lexer": "ipython3",
   "version": "3.9.16"
  }
 },
 "nbformat": 4,
 "nbformat_minor": 5
}
