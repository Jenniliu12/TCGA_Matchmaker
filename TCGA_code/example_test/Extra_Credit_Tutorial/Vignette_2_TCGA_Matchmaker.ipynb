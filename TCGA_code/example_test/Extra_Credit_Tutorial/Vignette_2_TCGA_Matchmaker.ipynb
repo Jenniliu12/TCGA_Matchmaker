{
 "cells": [
  {
   "cell_type": "markdown",
   "id": "207bc3c1",
   "metadata": {},
   "source": [
    "# Tutorial 2: TCGA Matchmaker of two ovarian tumors: recurrent vs primary\n",
    "\n",
    "The software takes in two input gene expression files and analyzes how the gene samples relate to each other.\n",
    "\n",
    "The goal is to check if an (input) gene profile shows similiarity with known cancer gene profiles. \n",
    "\n",
    "1. Load in data\n",
    "2. Pre-Process data\n",
    "3. Compute expression level analysis\n"
   ]
  },
  {
   "cell_type": "code",
   "execution_count": 1,
   "id": "c1508f87",
   "metadata": {},
   "outputs": [],
   "source": [
    "import pandas as pd\n",
    "import numpy as np\n",
    "from scipy.stats.stats import pearsonr   \n",
    "import matplotlib.pyplot as plt\n",
    "from scipy.stats import zscore\n",
    "import csv\n",
    "from TCGA_code import match_computation as m\n"
   ]
  },
  {
   "cell_type": "markdown",
   "id": "1238b33d",
   "metadata": {},
   "source": [
    "# Introduction:\n",
    "\n",
    "The tool takes in two cancer data sets and analyzes their similarity based on their gene expression levels.\n",
    "The user can choose different settings such as different methods of normalization that are applied to their input data. In this example, two pre-processed datasets are provided: A reoccuring ovarian cancer is compared to a primary ovarian tumor. The data sets are cleaned and processed again to ensure compatibility. Their similarity is assessed using simple correlation values and a bar chart that visualizes the percentage of genes with similar expression levels.\n",
    "\n"
   ]
  },
  {
   "cell_type": "markdown",
   "id": "9b6e341d",
   "metadata": {},
   "source": [
    "# Input data:\n",
    "\n",
    "The final input data for this software is expected to be in the following format: 2 .csv files with two columns with the heading:\n",
    "\n",
    "(\"symbol\", \"value\")\n",
    "\n",
    "\n",
    "The raw RNA-sequencing data is of type transcriptome profiling and represents gene expression quantification (expression levels). The data can be downloaded from the cancer genomics atlas (TCGA). The links for the data set are provided here:\n",
    "\n",
    "\n",
    "Recurrent ovarian tumor: https://portal.gdc.cancer.gov/files/711916cd-9bc9-4ad9-8c70-127e7b2500cf \n",
    "\n",
    "Primary ovarian tumor: https://portal.gdc.cancer.gov/files/b709dc50-afc3-421c-912a-caf0ed4cf9fc\n",
    "\n",
    "\n",
    "The data sets are expected to be of approximately 4-5 MB, including the whole human genome."
   ]
  },
  {
   "cell_type": "code",
   "execution_count": 7,
   "id": "8fa000e5",
   "metadata": {},
   "outputs": [],
   "source": [
    "# 1. Load in data from input files.\n",
    "\n",
    "file_name = \"Ovary_Primary_Tumor.csv\"\n",
    "profile_df = m.read_expr_profile(file_name)\n",
    "\n",
    "\n",
    "file_name = \"Ovary_Recurrent_Tumor.csv\"\n",
    "TCGA_df = m.read_TCGA_sample(file_name)\n",
    "\n"
   ]
  },
  {
   "cell_type": "markdown",
   "id": "060ed521",
   "metadata": {},
   "source": [
    "# Analysis & Results  \n",
    "\n",
    "The Analysis consists of two major parts: \n",
    "\n",
    "1. Processing\n",
    "2. Analysis\n",
    "\n",
    "In the processing step, the data is checked upon missing or duplicate values. Lastly, the datasets are normalized using a normalization method of choice, which include mean-, min-max- and z-score normalization. This step is incredibly important as experimentally acquired data can be differently scaled. It is important to consider relative expression values instead of absolute numbers to ensure comprehensive results.\n",
    "\n",
    "In the analysis step, the simple ratios are taken to investigate the simalirity of gene expression values. For example, a ratio of 1 implies a perfect match, wheras a ratio < 1 implies overexpression of the reference profile and > 1 implies overexpression of the referrent sample (It is important to keep track of the samples to avoid confusion). Similar genes are defined using a ratio threshold (user-defined, default is 0.05). Finally the bar chart visualizes those ratios and provides a quick overview of how many genes are found to have similar expression ratios, or which sample is found to be over-/underexpressed.\n",
    "\n"
   ]
  },
  {
   "cell_type": "code",
   "execution_count": 3,
   "id": "b588a1dd",
   "metadata": {},
   "outputs": [],
   "source": [
    "# 2. Process the data - Make them be the same length by either removing missing information or adding \n",
    "#    zero expression values. These functions check both input data files both ways.\n",
    "\n",
    "profile, sample, missing_TCGA = m.check_TCGA(profile_df, TCGA_df, add_missing = True, output = False)\n",
    "profile, sample, missing_reference = m.check_profile(profile, sample, add_missing = True, output = False)\n"
   ]
  },
  {
   "cell_type": "code",
   "execution_count": 5,
   "id": "2527e95d",
   "metadata": {},
   "outputs": [],
   "source": [
    "# 3. Normalize expression levels\n",
    "profile = m.normalize_profile(profile, \"mean\")\n",
    "sample = m.normalize_profile(sample, \"mean\")\n"
   ]
  },
  {
   "cell_type": "code",
   "execution_count": 6,
   "id": "09ebc5c1",
   "metadata": {},
   "outputs": [
    {
     "data": {
      "image/png": "[encoded data removed]",
      "text/plain": [
       "<Figure size 432x288 with 1 Axes>"
      ]
     },
     "metadata": {
      "needs_background": "light"
     },
     "output_type": "display_data"
    },
    {
     "name": "stdout",
     "output_type": "stream",
     "text": [
      "The input expression levels show a correlation value of: 0.9156\n",
      "Genes that are missing in the reference profile are:\n",
      " []\n",
      "Genes that are missing in the TCGA profile are:\n",
      " []\n"
     ]
    }
   ],
   "source": [
    "# 4. Data Analysis and evaluation:\n",
    "gene_ratio, similiar_genes = m.expression_analysis(profile, sample)\n",
    "\n",
    "# Bar chart Visualization\n",
    "m.gene_bar_chart(gene_ratio, show = \"percentage\")\n",
    "\n",
    "# Expression values correlation\n",
    "distance = m.compute_distance(profile, sample)\n",
    "\n",
    "print(\"The input expression levels show a correlation value of:\", distance)\n",
    "print(\"Genes that are missing in the reference profile are:\\n\", missing_TCGA)\n",
    "print(\"Genes that are missing in the TCGA profile are:\\n\", missing_reference)\n"
   ]
  },
  {
   "cell_type": "markdown",
   "id": "fc6788be",
   "metadata": {},
   "source": [
    "# Discussion\n",
    "\n",
    "The input datasets are cancer samples from the same subject. As both are ovary cancer samples, it was expected to find high correlation values e.g. high similarity of the tissue samples. \n",
    "The resulting correlation value is 0.9156, and in the bar char we can see that more than 83% of all genes show similar gene expression ratios (0.6-1.4). Genes that are missing in the respective profiles are shown to be transparent for the user. In the final step, the genes that are similarly expressed (0.95-1.05, or as user-defined), are collected and exported to an external comma-separated-file. \n",
    "\n",
    "\n",
    "It was found that the software is buggy and that not all computational/analyisis steps are fully matured. Future versions will update normalization techniques and improve the statistical methods that the gene matching functionality is relying on. Lastly, the current method to output similarly expressed genes is inconvenient, and could be improved by allowing easier access and direct visualization instead of the export method that the tool is currently using.\n",
    "\n",
    "Despite these current defects (and assuming that this dataset was particularly clean, as both samples were taken from the same subject), we can see that our initial expectations are met, and that the samples appear to be similarly expressed. The most interesing field of application now lies in those genes that are found to be very similarly expressed (within a ratio threshold as-defined). Those genes can be subject for future research, either as biomarkers or as genes of interest. Furthermore, it is planned to build a collection of different cancer samples into the software to simplify cancer sample matching across a variety of different tumors. This could be incredibly helpful in accelerating cancer research, therapeutics, and clinical applications as simliar cancers have the potential to be treated similarly as well.\n"
   ]
  },
  {
   "cell_type": "code",
   "execution_count": 8,
   "id": "4e4ecd6c",
   "metadata": {},
   "outputs": [],
   "source": [
    "# File Output:\n",
    "\n",
    "path = \"/Users/jenniliu/Desktop/BIOINF576/TCGA_Matchmaker/TCGA_code/example_test/Extra_Credit_Tutorial/Missing_Genes.csv\"\n",
    "with open(path, 'w+', newline = '') as csvfile:\n",
    "    my_writer = csv.writer(csvfile, delimiter = ' ')\n",
    "    text = \"\"\n",
    "    text += \"Missing Genes reference profile are:\\n\" #+ missing_TCGA\n",
    "    for gene in missing_reference:\n",
    "        text += f\"\\n{gene}\"\n",
    "\n",
    "    text += \"\\nMissing Genes TCGA profile are:\\n\" #+ missing_reference\n",
    "    for gene in missing_TCGA:\n",
    "        text += f\"\\n{gene}\"\n",
    "\n",
    "    my_writer.writerow(text)\n",
    "    "
   ]
  },
  {
   "cell_type": "code",
   "execution_count": 9,
   "id": "ec590983",
   "metadata": {},
   "outputs": [],
   "source": [
    "path = \"/Users/jenniliu/Desktop/BIOINF576/TCGA_Matchmaker/TCGA_code/example_test/Extra_Credit_Tutorial/Similiar_Genes.csv\"\n",
    "with open(path, 'w+', newline = '') as csvfile:\n",
    "    my_writer = csv.writer(csvfile, delimiter = ' ')\n",
    "    my_writer.writerow(\"Similiar_Genes\")\n",
    "    text = \"\"\n",
    "    for gene in similiar_genes:\n",
    "        idx = int(gene)\n",
    "        text += f\"\\n{sample.iloc[idx,0]}\"\n",
    "    my_writer.writerow(text)\n"
   ]
  },
  {
   "cell_type": "markdown",
   "id": "4e1267b4",
   "metadata": {},
   "source": [
    "# Conclusion\n",
    "\n",
    "The TCGA matchmaker, as introduced in this tutorial is a promising tool to get a quick \"overview\" of different cancer samples. It compares two cancer gene expression profiles and evaluates their similarity based on their expression levels. The biomedical application in mind is to utilize already-existing cancer research knowledge, if tumors are found to be highly similar. Furthermore, genes as biomarkers of interest can become subject of future research in therapeutics."
   ]
  }
 ],
 "metadata": {
  "kernelspec": {
   "display_name": "Python 3 (ipykernel)",
   "language": "python",
   "name": "python3"
  },
  "language_info": {
   "codemirror_mode": {
    "name": "ipython",
    "version": 3
   },
   "file_extension": ".py",
   "mimetype": "text/x-python",
   "name": "python",
   "nbconvert_exporter": "python",
   "pygments_lexer": "ipython3",
   "version": "3.9.16"
  }
 },
 "nbformat": 4,
 "nbformat_minor": 5
}
